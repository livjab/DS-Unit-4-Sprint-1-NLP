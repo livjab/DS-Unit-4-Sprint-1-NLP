{
 "cells": [
  {
   "cell_type": "markdown",
   "metadata": {},
   "source": [
    "<img align=\"left\" src=\"https://lever-client-logos.s3.amazonaws.com/864372b1-534c-480e-acd5-9711f850815c-1524247202159.png\" width=200>\n",
    "<br></br>\n",
    "<br></br>\n",
    "\n",
    "## *Data Science Unit 4 Sprint 2 Assignment 2*\n",
    "\n",
    "# Document Representations: Bag-Of-Words"
   ]
  },
  {
   "cell_type": "code",
   "execution_count": 1,
   "metadata": {
    "colab": {
     "base_uri": "https://localhost:8080/",
     "height": 159
    },
    "colab_type": "code",
    "id": "hyj-f9FDcVFp",
    "outputId": "5dd045fe-6e4c-458c-e2fc-253c3da9c805"
   },
   "outputs": [
    {
     "name": "stdout",
     "output_type": "stream",
     "text": [
      "Collecting nltk\n",
      "\u001b[?25l  Downloading https://files.pythonhosted.org/packages/87/16/4d247e27c55a7b6412e7c4c86f2500ae61afcbf5932b9e3491f8462f8d9e/nltk-3.4.4.zip (1.5MB)\n",
      "\u001b[K    100% |████████████████████████████████| 1.5MB 5.8MB/s \n",
      "\u001b[?25hRequirement already satisfied, skipping upgrade: six in /Users/ljohnson/anaconda3/lib/python3.7/site-packages (from nltk) (1.12.0)\n",
      "Building wheels for collected packages: nltk\n",
      "  Building wheel for nltk (setup.py) ... \u001b[?25ldone\n",
      "\u001b[?25h  Stored in directory: /Users/ljohnson/Library/Caches/pip/wheels/41/c8/31/48ace4468e236e0e8435f30d33e43df48594e4d53e367cf061\n",
      "Successfully built nltk\n",
      "Installing collected packages: nltk\n",
      "  Found existing installation: nltk 3.4\n",
      "    Uninstalling nltk-3.4:\n",
      "      Successfully uninstalled nltk-3.4\n",
      "Successfully installed nltk-3.4.4\n"
     ]
    },
    {
     "name": "stderr",
     "output_type": "stream",
     "text": [
      "[nltk_data] Downloading package punkt to /Users/ljohnson/nltk_data...\n",
      "[nltk_data]   Unzipping tokenizers/punkt.zip.\n",
      "[nltk_data] Downloading package stopwords to\n",
      "[nltk_data]     /Users/ljohnson/nltk_data...\n",
      "[nltk_data]   Unzipping corpora/stopwords.zip.\n"
     ]
    }
   ],
   "source": [
    "import re\n",
    "import string\n",
    "\n",
    "!pip install -U nltk\n",
    "\n",
    "import nltk\n",
    "nltk.download('punkt')\n",
    "nltk.download('stopwords')\n",
    "from nltk.tokenize import sent_tokenize # Sentence Tokenizer\n",
    "from nltk.tokenize import word_tokenize # Word Tokenizer\n",
    "from nltk.corpus import stopwords\n",
    "from nltk.stem.porter import PorterStemmer\n",
    "from nltk.stem.wordnet import WordNetLemmatizer\n",
    "from nltk.probability import FreqDist\n",
    "\n",
    "from sklearn.feature_extraction.text import CountVectorizer\n",
    "from sklearn.feature_extraction.text import TfidfVectorizer\n",
    "import matplotlib.pyplot as plt\n",
    "import pandas as pd\n",
    "import numpy as np"
   ]
  },
  {
   "cell_type": "markdown",
   "metadata": {
    "colab_type": "text",
    "id": "M7bcmqfGXrFG"
   },
   "source": [
    "# 1) (optional) Scrape 100 Job Listings that contain the title \"Data Scientist\" from indeed.com\n",
    "\n",
    "At a minimum your final dataframe of job listings should contain\n",
    "- Job Title\n",
    "- Job Description\n",
    "\n",
    "If you choose to not to scrape the data, there is a CSV with outdated data in the directory. Remeber, if you scrape Indeed, you're helping yourself find a job. ;)"
   ]
  },
  {
   "cell_type": "code",
   "execution_count": null,
   "metadata": {
    "colab": {},
    "colab_type": "code",
    "id": "KcYlc1URXhlC"
   },
   "outputs": [],
   "source": [
    "##### Your Code Here #####\n",
    "raise Exception(\"\\nThis task is not complete. \\nReplace this line with your code for the task.\""
   ]
  },
  {
   "cell_type": "markdown",
   "metadata": {
    "colab_type": "text",
    "id": "5C4xFZNtX1m2"
   },
   "source": [
    "## 2) Use Spacy to tokenize / clean the listings "
   ]
  },
  {
   "cell_type": "code",
   "execution_count": 52,
   "metadata": {
    "colab": {},
    "colab_type": "code",
    "id": "dhUHuMr-X-II"
   },
   "outputs": [
    {
     "data": {
      "text/html": [
       "<div>\n",
       "<style scoped>\n",
       "    .dataframe tbody tr th:only-of-type {\n",
       "        vertical-align: middle;\n",
       "    }\n",
       "\n",
       "    .dataframe tbody tr th {\n",
       "        vertical-align: top;\n",
       "    }\n",
       "\n",
       "    .dataframe thead th {\n",
       "        text-align: right;\n",
       "    }\n",
       "</style>\n",
       "<table border=\"1\" class=\"dataframe\">\n",
       "  <thead>\n",
       "    <tr style=\"text-align: right;\">\n",
       "      <th></th>\n",
       "      <th>Unnamed: 0</th>\n",
       "      <th>description</th>\n",
       "      <th>title</th>\n",
       "    </tr>\n",
       "  </thead>\n",
       "  <tbody>\n",
       "    <tr>\n",
       "      <th>0</th>\n",
       "      <td>0</td>\n",
       "      <td>b\"&lt;div&gt;&lt;div&gt;Job Requirements:&lt;/div&gt;&lt;ul&gt;&lt;li&gt;&lt;p&gt;...</td>\n",
       "      <td>Data scientist</td>\n",
       "    </tr>\n",
       "    <tr>\n",
       "      <th>1</th>\n",
       "      <td>1</td>\n",
       "      <td>b'&lt;div&gt;Job Description&lt;br/&gt;\\n&lt;br/&gt;\\n&lt;p&gt;As a Da...</td>\n",
       "      <td>Data Scientist I</td>\n",
       "    </tr>\n",
       "    <tr>\n",
       "      <th>2</th>\n",
       "      <td>2</td>\n",
       "      <td>b'&lt;div&gt;&lt;p&gt;As a Data Scientist you will be work...</td>\n",
       "      <td>Data Scientist - Entry Level</td>\n",
       "    </tr>\n",
       "    <tr>\n",
       "      <th>3</th>\n",
       "      <td>3</td>\n",
       "      <td>b'&lt;div class=\"jobsearch-JobMetadataHeader icl-...</td>\n",
       "      <td>Data Scientist</td>\n",
       "    </tr>\n",
       "    <tr>\n",
       "      <th>4</th>\n",
       "      <td>4</td>\n",
       "      <td>b'&lt;ul&gt;&lt;li&gt;Location: USA \\xe2\\x80\\x93 multiple ...</td>\n",
       "      <td>Data Scientist</td>\n",
       "    </tr>\n",
       "  </tbody>\n",
       "</table>\n",
       "</div>"
      ],
      "text/plain": [
       "   Unnamed: 0                                        description  \\\n",
       "0           0  b\"<div><div>Job Requirements:</div><ul><li><p>...   \n",
       "1           1  b'<div>Job Description<br/>\\n<br/>\\n<p>As a Da...   \n",
       "2           2  b'<div><p>As a Data Scientist you will be work...   \n",
       "3           3  b'<div class=\"jobsearch-JobMetadataHeader icl-...   \n",
       "4           4  b'<ul><li>Location: USA \\xe2\\x80\\x93 multiple ...   \n",
       "\n",
       "                          title  \n",
       "0               Data scientist   \n",
       "1              Data Scientist I  \n",
       "2  Data Scientist - Entry Level  \n",
       "3                Data Scientist  \n",
       "4                Data Scientist  "
      ]
     },
     "execution_count": 52,
     "metadata": {},
     "output_type": "execute_result"
    }
   ],
   "source": [
    "df = pd.read_csv('job_listings.csv')\n",
    "df.head()"
   ]
  },
  {
   "cell_type": "code",
   "execution_count": 53,
   "metadata": {},
   "outputs": [],
   "source": [
    "# function to remove html tags\n",
    "def remove_html_tags(text):\n",
    "    import re\n",
    "    clean = re.compile('<.*?>')\n",
    "    return re.sub(clean, '', text)"
   ]
  },
  {
   "cell_type": "code",
   "execution_count": 54,
   "metadata": {},
   "outputs": [
    {
     "data": {
      "text/plain": [
       "0    b\"Job Requirements:\\nConceptual understanding ...\n",
       "1    b'Job Description\\n\\nAs a Data Scientist 1, yo...\n",
       "2    b'As a Data Scientist you will be working on c...\n",
       "3    b'$4,969 - $6,756 a monthContractUnder the gen...\n",
       "4    b'Location: USA \\xe2\\x80\\x93 multiple location...\n",
       "Name: description, dtype: object"
      ]
     },
     "execution_count": 54,
     "metadata": {},
     "output_type": "execute_result"
    }
   ],
   "source": [
    "df['description'] = df['description'].apply(remove_html_tags)\n",
    "df['description'].head()"
   ]
  },
  {
   "cell_type": "code",
   "execution_count": 55,
   "metadata": {},
   "outputs": [],
   "source": [
    "import spacy\n",
    "from spacy.tokenizer import Tokenizer\n",
    "\n",
    "nlp = spacy.load(\"en_core_web_sm\")\n",
    "\n",
    "# Tokenizer\n",
    "tokenizer = Tokenizer(nlp.vocab)"
   ]
  },
  {
   "cell_type": "code",
   "execution_count": 56,
   "metadata": {},
   "outputs": [
    {
     "data": {
      "text/plain": [
       "0    [b\"job, requirements:\\nconceptual, understandi...\n",
       "1    [b'job, description\\n\\nas, data, scientist, 1,...\n",
       "2    [b'as, data, scientist, working, consulting, b...\n",
       "3    [b'$4,969, $6,756, monthcontractunder, general...\n",
       "4    [b'location:, usa, \\xe2\\x80\\x93, multiple, loc...\n",
       "Name: tokens, dtype: object"
      ]
     },
     "execution_count": 56,
     "metadata": {},
     "output_type": "execute_result"
    }
   ],
   "source": [
    "# Tokenizer Pipe\n",
    "\n",
    "tokens = []\n",
    "\n",
    "for doc in tokenizer.pipe(df['description']):\n",
    "    doc_tokens = []\n",
    "    for token in doc:\n",
    "        if (token.is_stop == False) and (token.is_punct == False):\n",
    "            doc_tokens.append(token.text.lower())\n",
    "    tokens.append(doc_tokens)\n",
    "    \n",
    "df['tokens'] = tokens\n",
    "df['tokens'].head(5)"
   ]
  },
  {
   "cell_type": "markdown",
   "metadata": {
    "colab_type": "text",
    "id": "-lgCZNL_YycP"
   },
   "source": [
    "# 3) Use Scikit-Learn's CountVectorizer to get word counts for each listing."
   ]
  },
  {
   "cell_type": "code",
   "execution_count": 79,
   "metadata": {},
   "outputs": [
    {
     "data": {
      "text/plain": [
       "[['b\"job',\n",
       "  'requirements:\\\\nconceptual',\n",
       "  'understanding',\n",
       "  'machine',\n",
       "  'learning',\n",
       "  'models',\n",
       "  'like',\n",
       "  'nai\\\\xc2\\\\xa8ve',\n",
       "  'bayes,',\n",
       "  'k-means,',\n",
       "  'svm,',\n",
       "  'apriori,',\n",
       "  'linear/',\n",
       "  'logistic',\n",
       "  'regression,',\n",
       "  'neural,',\n",
       "  'random',\n",
       "  'forests,',\n",
       "  'decision',\n",
       "  'trees,',\n",
       "  'k-nn',\n",
       "  'hands-on',\n",
       "  'experience',\n",
       "  '2',\n",
       "  'them\\\\nintermediate',\n",
       "  'expert',\n",
       "  'level',\n",
       "  'coding',\n",
       "  'skills',\n",
       "  'python/r.',\n",
       "  '(ability',\n",
       "  'write',\n",
       "  'functions,',\n",
       "  'clean',\n",
       "  'efficient',\n",
       "  'data',\n",
       "  'manipulation',\n",
       "  'mandatory',\n",
       "  'role)\\\\nexposure',\n",
       "  'packages',\n",
       "  'like',\n",
       "  'numpy,',\n",
       "  'scipy,',\n",
       "  'pandas,',\n",
       "  'matplotlib',\n",
       "  'etc',\n",
       "  'python',\n",
       "  'ggplot2,',\n",
       "  'dplyr,',\n",
       "  'tidyr',\n",
       "  'r\\\\nability',\n",
       "  'communicate',\n",
       "  'model',\n",
       "  'findings',\n",
       "  'technical',\n",
       "  'non-technical',\n",
       "  'stake',\n",
       "  'holders\\\\nhands',\n",
       "  'experience',\n",
       "  'sql/hive',\n",
       "  'similar',\n",
       "  'programming',\n",
       "  'language\\\\nmust',\n",
       "  'past',\n",
       "  'work',\n",
       "  'github,',\n",
       "  'kaggle',\n",
       "  'published',\n",
       "  \"article\\\\nmaster's\",\n",
       "  'degree',\n",
       "  'statistics/mathematics/computer',\n",
       "  'science',\n",
       "  'quant',\n",
       "  'specific',\n",
       "  'field.\\\\napply',\n",
       "  'now\"']]"
      ]
     },
     "execution_count": 79,
     "metadata": {},
     "output_type": "execute_result"
    }
   ],
   "source": [
    "docs = list(df['tokens'])\n",
    "docs[:1]"
   ]
  },
  {
   "cell_type": "code",
   "execution_count": 80,
   "metadata": {
    "colab": {},
    "colab_type": "code",
    "id": "X2PZ8Pj_YxcF"
   },
   "outputs": [
    {
     "name": "stderr",
     "output_type": "stream",
     "text": [
      "/Users/ljohnson/anaconda3/lib/python3.7/site-packages/sklearn/feature_extraction/text.py:301: UserWarning: Your stop_words may be inconsistent with your preprocessing. Tokenizing the stop words generated tokens ['b', 'c', 'd', 'e', 'f', 'g', 'h', 'k', 'l', 'm', 'n', 'o', 'p', 'r', 's', 't', 'u', 'v', 'w', 'x', 'y'] not in stop_words.\n",
      "  'stop_words.' % sorted(inconsistent))\n"
     ]
    }
   ],
   "source": [
    "from sklearn.feature_extraction.text import CountVectorizer\n",
    "\n",
    "c_vect = CountVectorizer(stop_words='english', tokenizer=lambda doc: doc, lowercase=False)\n",
    "c_vect.fit(docs)\n",
    "c_vect.vocabulary_\n",
    "dtm = c_vect.transform(docs)"
   ]
  },
  {
   "cell_type": "code",
   "execution_count": 81,
   "metadata": {},
   "outputs": [
    {
     "data": {
      "text/plain": [
       "matrix([[0, 0, 0, ..., 0, 0, 0],\n",
       "        [0, 0, 0, ..., 0, 0, 0],\n",
       "        [0, 0, 0, ..., 0, 0, 0],\n",
       "        ...,\n",
       "        [0, 0, 0, ..., 0, 0, 0],\n",
       "        [0, 0, 0, ..., 0, 0, 0],\n",
       "        [0, 0, 0, ..., 0, 0, 0]])"
      ]
     },
     "execution_count": 81,
     "metadata": {},
     "output_type": "execute_result"
    }
   ],
   "source": [
    "dtm.todense()"
   ]
  },
  {
   "cell_type": "code",
   "execution_count": 86,
   "metadata": {},
   "outputs": [
    {
     "data": {
      "text/html": [
       "<div>\n",
       "<style scoped>\n",
       "    .dataframe tbody tr th:only-of-type {\n",
       "        vertical-align: middle;\n",
       "    }\n",
       "\n",
       "    .dataframe tbody tr th {\n",
       "        vertical-align: top;\n",
       "    }\n",
       "\n",
       "    .dataframe thead th {\n",
       "        text-align: right;\n",
       "    }\n",
       "</style>\n",
       "<table border=\"1\" class=\"dataframe\">\n",
       "  <thead>\n",
       "    <tr style=\"text-align: right;\">\n",
       "      <th></th>\n",
       "      <th>\"ability</th>\n",
       "      <th>\"apply\"</th>\n",
       "      <th>\"best</th>\n",
       "      <th>\"big</th>\n",
       "      <th>\"can</th>\n",
       "      <th>\"can-do\"</th>\n",
       "      <th>\"completeness</th>\n",
       "      <th>\"customer</th>\n",
       "      <th>\"engineering</th>\n",
       "      <th>\"fintech\"</th>\n",
       "      <th>...</th>\n",
       "      <th>zillow</th>\n",
       "      <th>zillow\\'s</th>\n",
       "      <th>zones\\nability</th>\n",
       "      <th>zoom</th>\n",
       "      <th>zuckerberg</th>\n",
       "      <th>zurich</th>\n",
       "      <th>|</th>\n",
       "      <th>||</th>\n",
       "      <th>~$70</th>\n",
       "      <th>~4</th>\n",
       "    </tr>\n",
       "  </thead>\n",
       "  <tbody>\n",
       "    <tr>\n",
       "      <th>0</th>\n",
       "      <td>0</td>\n",
       "      <td>0</td>\n",
       "      <td>0</td>\n",
       "      <td>0</td>\n",
       "      <td>0</td>\n",
       "      <td>0</td>\n",
       "      <td>0</td>\n",
       "      <td>0</td>\n",
       "      <td>0</td>\n",
       "      <td>0</td>\n",
       "      <td>...</td>\n",
       "      <td>0</td>\n",
       "      <td>0</td>\n",
       "      <td>0</td>\n",
       "      <td>0</td>\n",
       "      <td>0</td>\n",
       "      <td>0</td>\n",
       "      <td>0</td>\n",
       "      <td>0</td>\n",
       "      <td>0</td>\n",
       "      <td>0</td>\n",
       "    </tr>\n",
       "    <tr>\n",
       "      <th>1</th>\n",
       "      <td>0</td>\n",
       "      <td>0</td>\n",
       "      <td>0</td>\n",
       "      <td>0</td>\n",
       "      <td>0</td>\n",
       "      <td>0</td>\n",
       "      <td>0</td>\n",
       "      <td>1</td>\n",
       "      <td>0</td>\n",
       "      <td>0</td>\n",
       "      <td>...</td>\n",
       "      <td>0</td>\n",
       "      <td>0</td>\n",
       "      <td>0</td>\n",
       "      <td>0</td>\n",
       "      <td>0</td>\n",
       "      <td>0</td>\n",
       "      <td>0</td>\n",
       "      <td>0</td>\n",
       "      <td>0</td>\n",
       "      <td>0</td>\n",
       "    </tr>\n",
       "    <tr>\n",
       "      <th>2</th>\n",
       "      <td>0</td>\n",
       "      <td>0</td>\n",
       "      <td>0</td>\n",
       "      <td>0</td>\n",
       "      <td>0</td>\n",
       "      <td>0</td>\n",
       "      <td>0</td>\n",
       "      <td>0</td>\n",
       "      <td>0</td>\n",
       "      <td>0</td>\n",
       "      <td>...</td>\n",
       "      <td>0</td>\n",
       "      <td>0</td>\n",
       "      <td>0</td>\n",
       "      <td>0</td>\n",
       "      <td>0</td>\n",
       "      <td>0</td>\n",
       "      <td>0</td>\n",
       "      <td>0</td>\n",
       "      <td>0</td>\n",
       "      <td>0</td>\n",
       "    </tr>\n",
       "    <tr>\n",
       "      <th>3</th>\n",
       "      <td>0</td>\n",
       "      <td>0</td>\n",
       "      <td>0</td>\n",
       "      <td>0</td>\n",
       "      <td>0</td>\n",
       "      <td>0</td>\n",
       "      <td>0</td>\n",
       "      <td>0</td>\n",
       "      <td>0</td>\n",
       "      <td>0</td>\n",
       "      <td>...</td>\n",
       "      <td>0</td>\n",
       "      <td>0</td>\n",
       "      <td>0</td>\n",
       "      <td>0</td>\n",
       "      <td>0</td>\n",
       "      <td>0</td>\n",
       "      <td>0</td>\n",
       "      <td>0</td>\n",
       "      <td>0</td>\n",
       "      <td>0</td>\n",
       "    </tr>\n",
       "    <tr>\n",
       "      <th>4</th>\n",
       "      <td>0</td>\n",
       "      <td>0</td>\n",
       "      <td>0</td>\n",
       "      <td>0</td>\n",
       "      <td>0</td>\n",
       "      <td>0</td>\n",
       "      <td>0</td>\n",
       "      <td>0</td>\n",
       "      <td>0</td>\n",
       "      <td>0</td>\n",
       "      <td>...</td>\n",
       "      <td>0</td>\n",
       "      <td>0</td>\n",
       "      <td>0</td>\n",
       "      <td>0</td>\n",
       "      <td>0</td>\n",
       "      <td>0</td>\n",
       "      <td>0</td>\n",
       "      <td>0</td>\n",
       "      <td>0</td>\n",
       "      <td>0</td>\n",
       "    </tr>\n",
       "  </tbody>\n",
       "</table>\n",
       "<p>5 rows × 21328 columns</p>\n",
       "</div>"
      ],
      "text/plain": [
       "   \"ability  \"apply\"  \"best  \"big  \"can  \"can-do\"  \"completeness  \"customer  \\\n",
       "0         0        0      0     0     0         0              0          0   \n",
       "1         0        0      0     0     0         0              0          1   \n",
       "2         0        0      0     0     0         0              0          0   \n",
       "3         0        0      0     0     0         0              0          0   \n",
       "4         0        0      0     0     0         0              0          0   \n",
       "\n",
       "   \"engineering  \"fintech\"  ...  zillow  zillow\\'s  zones\\nability  zoom  \\\n",
       "0             0          0  ...       0          0               0     0   \n",
       "1             0          0  ...       0          0               0     0   \n",
       "2             0          0  ...       0          0               0     0   \n",
       "3             0          0  ...       0          0               0     0   \n",
       "4             0          0  ...       0          0               0     0   \n",
       "\n",
       "   zuckerberg  zurich  |  ||  ~$70  ~4  \n",
       "0           0       0  0   0     0   0  \n",
       "1           0       0  0   0     0   0  \n",
       "2           0       0  0   0     0   0  \n",
       "3           0       0  0   0     0   0  \n",
       "4           0       0  0   0     0   0  \n",
       "\n",
       "[5 rows x 21328 columns]"
      ]
     },
     "execution_count": 86,
     "metadata": {},
     "output_type": "execute_result"
    }
   ],
   "source": [
    "dtm = pd.DataFrame(dtm, columns = c_vect.get_feature_names())\n",
    "dtm.head()"
   ]
  },
  {
   "cell_type": "markdown",
   "metadata": {
    "colab_type": "text",
    "id": "Zo1iH_UeY7_n"
   },
   "source": [
    "# 4) Visualize the most common word counts"
   ]
  },
  {
   "cell_type": "code",
   "execution_count": 95,
   "metadata": {
    "colab": {},
    "colab_type": "code",
    "id": "M5LB00uyZKV5"
   },
   "outputs": [],
   "source": [
    "from collections import Counter\n",
    "def count(docs):\n",
    "\n",
    "        word_counts = Counter()\n",
    "        appears_in = Counter()\n",
    "        \n",
    "        total_docs = len(docs)\n",
    "\n",
    "        for doc in docs:\n",
    "            word_counts.update(doc)\n",
    "            appears_in.update(set(doc))\n",
    "\n",
    "        temp = zip(word_counts.keys(), word_counts.values())\n",
    "        \n",
    "        wc = pd.DataFrame(temp, columns = ['word', 'count'])\n",
    "\n",
    "        wc['rank'] = wc['count'].rank(method='first', ascending=False)\n",
    "        total = wc['count'].sum()\n",
    "\n",
    "        wc['pct_total'] = wc['count'].apply(lambda x: x / total)\n",
    "        \n",
    "        wc = wc.sort_values(by='rank')\n",
    "        wc['cul_pct_total'] = wc['pct_total'].cumsum()\n",
    "\n",
    "        t2 = zip(appears_in.keys(), appears_in.values())\n",
    "        ac = pd.DataFrame(t2, columns=['word', 'appears_in'])\n",
    "        wc = ac.merge(wc, on='word')\n",
    "\n",
    "        wc['appears_in_pct'] = wc['appears_in'].apply(lambda x: x / total_docs)\n",
    "        \n",
    "        return wc.sort_values(by='rank')"
   ]
  },
  {
   "cell_type": "code",
   "execution_count": 96,
   "metadata": {},
   "outputs": [
    {
     "data": {
      "text/html": [
       "<div>\n",
       "<style scoped>\n",
       "    .dataframe tbody tr th:only-of-type {\n",
       "        vertical-align: middle;\n",
       "    }\n",
       "\n",
       "    .dataframe tbody tr th {\n",
       "        vertical-align: top;\n",
       "    }\n",
       "\n",
       "    .dataframe thead th {\n",
       "        text-align: right;\n",
       "    }\n",
       "</style>\n",
       "<table border=\"1\" class=\"dataframe\">\n",
       "  <thead>\n",
       "    <tr style=\"text-align: right;\">\n",
       "      <th></th>\n",
       "      <th>word</th>\n",
       "      <th>appears_in</th>\n",
       "      <th>count</th>\n",
       "      <th>rank</th>\n",
       "      <th>pct_total</th>\n",
       "      <th>cul_pct_total</th>\n",
       "      <th>appears_in_pct</th>\n",
       "    </tr>\n",
       "  </thead>\n",
       "  <tbody>\n",
       "    <tr>\n",
       "      <th>2</th>\n",
       "      <td>data</td>\n",
       "      <td>419</td>\n",
       "      <td>3751</td>\n",
       "      <td>1.0</td>\n",
       "      <td>0.029882</td>\n",
       "      <td>0.029882</td>\n",
       "      <td>0.983568</td>\n",
       "    </tr>\n",
       "    <tr>\n",
       "      <th>189</th>\n",
       "      <td>business</td>\n",
       "      <td>303</td>\n",
       "      <td>1008</td>\n",
       "      <td>2.0</td>\n",
       "      <td>0.008030</td>\n",
       "      <td>0.037912</td>\n",
       "      <td>0.711268</td>\n",
       "    </tr>\n",
       "    <tr>\n",
       "      <th>53</th>\n",
       "      <td>experience</td>\n",
       "      <td>357</td>\n",
       "      <td>941</td>\n",
       "      <td>3.0</td>\n",
       "      <td>0.007496</td>\n",
       "      <td>0.045409</td>\n",
       "      <td>0.838028</td>\n",
       "    </tr>\n",
       "    <tr>\n",
       "      <th>60</th>\n",
       "      <td>work</td>\n",
       "      <td>326</td>\n",
       "      <td>876</td>\n",
       "      <td>4.0</td>\n",
       "      <td>0.006979</td>\n",
       "      <td>0.052388</td>\n",
       "      <td>0.765258</td>\n",
       "    </tr>\n",
       "    <tr>\n",
       "      <th>313</th>\n",
       "      <td>team</td>\n",
       "      <td>314</td>\n",
       "      <td>726</td>\n",
       "      <td>5.0</td>\n",
       "      <td>0.005784</td>\n",
       "      <td>0.058171</td>\n",
       "      <td>0.737089</td>\n",
       "    </tr>\n",
       "  </tbody>\n",
       "</table>\n",
       "</div>"
      ],
      "text/plain": [
       "           word  appears_in  count  rank  pct_total  cul_pct_total  \\\n",
       "2          data         419   3751   1.0   0.029882       0.029882   \n",
       "189    business         303   1008   2.0   0.008030       0.037912   \n",
       "53   experience         357    941   3.0   0.007496       0.045409   \n",
       "60         work         326    876   4.0   0.006979       0.052388   \n",
       "313        team         314    726   5.0   0.005784       0.058171   \n",
       "\n",
       "     appears_in_pct  \n",
       "2          0.983568  \n",
       "189        0.711268  \n",
       "53         0.838028  \n",
       "60         0.765258  \n",
       "313        0.737089  "
      ]
     },
     "execution_count": 96,
     "metadata": {},
     "output_type": "execute_result"
    }
   ],
   "source": [
    "wc = count(df['tokens'])\n",
    "wc.head()"
   ]
  },
  {
   "cell_type": "code",
   "execution_count": 97,
   "metadata": {},
   "outputs": [
    {
     "data": {
      "image/png": "[encoded data removed]",
      "text/plain": [
       "<Figure size 432x288 with 1 Axes>"
      ]
     },
     "metadata": {
      "needs_background": "light"
     },
     "output_type": "display_data"
    }
   ],
   "source": [
    "import squarify\n",
    "import matplotlib.pyplot as plt\n",
    "\n",
    "wc_top20 = wc[wc['rank'] <= 20]\n",
    "\n",
    "squarify.plot(sizes=wc_top20['pct_total'], label=wc_top20['word'], alpha=.8 )\n",
    "plt.axis('off')\n",
    "plt.show()"
   ]
  },
  {
   "cell_type": "markdown",
   "metadata": {
    "colab_type": "text",
    "id": "bwFsTqrVZMYi"
   },
   "source": [
    " # 5) Use Scikit-Learn's tfidfVectorizer to get a TF-IDF feature matrix"
   ]
  },
  {
   "cell_type": "code",
   "execution_count": 88,
   "metadata": {
    "colab": {},
    "colab_type": "code",
    "id": "-gx2gZCbl5Np"
   },
   "outputs": [
    {
     "data": {
      "text/html": [
       "<div>\n",
       "<style scoped>\n",
       "    .dataframe tbody tr th:only-of-type {\n",
       "        vertical-align: middle;\n",
       "    }\n",
       "\n",
       "    .dataframe tbody tr th {\n",
       "        vertical-align: top;\n",
       "    }\n",
       "\n",
       "    .dataframe thead th {\n",
       "        text-align: right;\n",
       "    }\n",
       "</style>\n",
       "<table border=\"1\" class=\"dataframe\">\n",
       "  <thead>\n",
       "    <tr style=\"text-align: right;\">\n",
       "      <th></th>\n",
       "      <th>\"best</th>\n",
       "      <th>\"success\"</th>\n",
       "      <th>&amp;amp;</th>\n",
       "      <th>(5)</th>\n",
       "      <th>(a/b</th>\n",
       "      <th>(an</th>\n",
       "      <th>(and</th>\n",
       "      <th>(anticipated</th>\n",
       "      <th>(applies</th>\n",
       "      <th>(aws)</th>\n",
       "      <th>...</th>\n",
       "      <th>you\\xe2\\x80\\x99ll</th>\n",
       "      <th>you\\xe2\\x80\\x99re</th>\n",
       "      <th>you\\xe2\\x80\\x99ve</th>\n",
       "      <th>young</th>\n",
       "      <th>yrs</th>\n",
       "      <th>zf</th>\n",
       "      <th>zf\\xe2\\x80\\x99s</th>\n",
       "      <th>zillow</th>\n",
       "      <th>|</th>\n",
       "      <th>||</th>\n",
       "    </tr>\n",
       "  </thead>\n",
       "  <tbody>\n",
       "    <tr>\n",
       "      <th>0</th>\n",
       "      <td>0.0</td>\n",
       "      <td>0.0</td>\n",
       "      <td>0.00000</td>\n",
       "      <td>0.0</td>\n",
       "      <td>0.0</td>\n",
       "      <td>0.0</td>\n",
       "      <td>0.0</td>\n",
       "      <td>0.0</td>\n",
       "      <td>0.0</td>\n",
       "      <td>0.0</td>\n",
       "      <td>...</td>\n",
       "      <td>0.0</td>\n",
       "      <td>0.0</td>\n",
       "      <td>0.0</td>\n",
       "      <td>0.0</td>\n",
       "      <td>0.0</td>\n",
       "      <td>0.0</td>\n",
       "      <td>0.0</td>\n",
       "      <td>0.0</td>\n",
       "      <td>0.0</td>\n",
       "      <td>0.0</td>\n",
       "    </tr>\n",
       "    <tr>\n",
       "      <th>1</th>\n",
       "      <td>0.0</td>\n",
       "      <td>0.0</td>\n",
       "      <td>0.03497</td>\n",
       "      <td>0.0</td>\n",
       "      <td>0.0</td>\n",
       "      <td>0.0</td>\n",
       "      <td>0.0</td>\n",
       "      <td>0.0</td>\n",
       "      <td>0.0</td>\n",
       "      <td>0.0</td>\n",
       "      <td>...</td>\n",
       "      <td>0.0</td>\n",
       "      <td>0.0</td>\n",
       "      <td>0.0</td>\n",
       "      <td>0.0</td>\n",
       "      <td>0.0</td>\n",
       "      <td>0.0</td>\n",
       "      <td>0.0</td>\n",
       "      <td>0.0</td>\n",
       "      <td>0.0</td>\n",
       "      <td>0.0</td>\n",
       "    </tr>\n",
       "    <tr>\n",
       "      <th>2</th>\n",
       "      <td>0.0</td>\n",
       "      <td>0.0</td>\n",
       "      <td>0.00000</td>\n",
       "      <td>0.0</td>\n",
       "      <td>0.0</td>\n",
       "      <td>0.0</td>\n",
       "      <td>0.0</td>\n",
       "      <td>0.0</td>\n",
       "      <td>0.0</td>\n",
       "      <td>0.0</td>\n",
       "      <td>...</td>\n",
       "      <td>0.0</td>\n",
       "      <td>0.0</td>\n",
       "      <td>0.0</td>\n",
       "      <td>0.0</td>\n",
       "      <td>0.0</td>\n",
       "      <td>0.0</td>\n",
       "      <td>0.0</td>\n",
       "      <td>0.0</td>\n",
       "      <td>0.0</td>\n",
       "      <td>0.0</td>\n",
       "    </tr>\n",
       "    <tr>\n",
       "      <th>3</th>\n",
       "      <td>0.0</td>\n",
       "      <td>0.0</td>\n",
       "      <td>0.00000</td>\n",
       "      <td>0.0</td>\n",
       "      <td>0.0</td>\n",
       "      <td>0.0</td>\n",
       "      <td>0.0</td>\n",
       "      <td>0.0</td>\n",
       "      <td>0.0</td>\n",
       "      <td>0.0</td>\n",
       "      <td>...</td>\n",
       "      <td>0.0</td>\n",
       "      <td>0.0</td>\n",
       "      <td>0.0</td>\n",
       "      <td>0.0</td>\n",
       "      <td>0.0</td>\n",
       "      <td>0.0</td>\n",
       "      <td>0.0</td>\n",
       "      <td>0.0</td>\n",
       "      <td>0.0</td>\n",
       "      <td>0.0</td>\n",
       "    </tr>\n",
       "    <tr>\n",
       "      <th>4</th>\n",
       "      <td>0.0</td>\n",
       "      <td>0.0</td>\n",
       "      <td>0.00000</td>\n",
       "      <td>0.0</td>\n",
       "      <td>0.0</td>\n",
       "      <td>0.0</td>\n",
       "      <td>0.0</td>\n",
       "      <td>0.0</td>\n",
       "      <td>0.0</td>\n",
       "      <td>0.0</td>\n",
       "      <td>...</td>\n",
       "      <td>0.0</td>\n",
       "      <td>0.0</td>\n",
       "      <td>0.0</td>\n",
       "      <td>0.0</td>\n",
       "      <td>0.0</td>\n",
       "      <td>0.0</td>\n",
       "      <td>0.0</td>\n",
       "      <td>0.0</td>\n",
       "      <td>0.0</td>\n",
       "      <td>0.0</td>\n",
       "    </tr>\n",
       "  </tbody>\n",
       "</table>\n",
       "<p>5 rows × 5000 columns</p>\n",
       "</div>"
      ],
      "text/plain": [
       "   \"best  \"success\"    &amp;  (5)  (a/b  (an  (and  (anticipated  (applies  \\\n",
       "0    0.0        0.0  0.00000  0.0   0.0  0.0   0.0           0.0       0.0   \n",
       "1    0.0        0.0  0.03497  0.0   0.0  0.0   0.0           0.0       0.0   \n",
       "2    0.0        0.0  0.00000  0.0   0.0  0.0   0.0           0.0       0.0   \n",
       "3    0.0        0.0  0.00000  0.0   0.0  0.0   0.0           0.0       0.0   \n",
       "4    0.0        0.0  0.00000  0.0   0.0  0.0   0.0           0.0       0.0   \n",
       "\n",
       "   (aws)  ...  you\\xe2\\x80\\x99ll  you\\xe2\\x80\\x99re  you\\xe2\\x80\\x99ve  young  \\\n",
       "0    0.0  ...                0.0                0.0                0.0    0.0   \n",
       "1    0.0  ...                0.0                0.0                0.0    0.0   \n",
       "2    0.0  ...                0.0                0.0                0.0    0.0   \n",
       "3    0.0  ...                0.0                0.0                0.0    0.0   \n",
       "4    0.0  ...                0.0                0.0                0.0    0.0   \n",
       "\n",
       "   yrs   zf  zf\\xe2\\x80\\x99s  zillow    |   ||  \n",
       "0  0.0  0.0              0.0     0.0  0.0  0.0  \n",
       "1  0.0  0.0              0.0     0.0  0.0  0.0  \n",
       "2  0.0  0.0              0.0     0.0  0.0  0.0  \n",
       "3  0.0  0.0              0.0     0.0  0.0  0.0  \n",
       "4  0.0  0.0              0.0     0.0  0.0  0.0  \n",
       "\n",
       "[5 rows x 5000 columns]"
      ]
     },
     "execution_count": 88,
     "metadata": {},
     "output_type": "execute_result"
    }
   ],
   "source": [
    "from sklearn.feature_extraction.text import TfidfVectorizer\n",
    "\n",
    "# Instantiate vectorizer object\n",
    "tfidf = TfidfVectorizer(stop_words='english', max_features=5000, tokenizer=lambda doc: doc, lowercase=False)\n",
    "\n",
    "# Create a vocabulary and get word counts per document\n",
    "dtm = tfidf.fit_transform(docs)\n",
    "\n",
    "# View Feature Matrix as DataFrame\n",
    "docs_df = pd.DataFrame(dtm.todense(), columns = tfidf.get_feature_names())\n",
    "docs_df.head()"
   ]
  },
  {
   "cell_type": "markdown",
   "metadata": {},
   "source": [
    " # 6) Create a NearestNeighbor Model. Write the description of your ideal datascience job and query your job listings. "
   ]
  },
  {
   "cell_type": "code",
   "execution_count": 89,
   "metadata": {
    "collapsed": false,
    "inputHidden": false,
    "outputHidden": false
   },
   "outputs": [
    {
     "data": {
      "text/plain": [
       "NearestNeighbors(algorithm='ball_tree', leaf_size=30, metric='minkowski',\n",
       "         metric_params=None, n_jobs=None, n_neighbors=5, p=2, radius=1.0)"
      ]
     },
     "execution_count": 89,
     "metadata": {},
     "output_type": "execute_result"
    }
   ],
   "source": [
    "# Instantiate\n",
    "from sklearn.neighbors import NearestNeighbors\n",
    "\n",
    "nn = NearestNeighbors(n_neighbors=5, algorithm='ball_tree')\n",
    "\n",
    "nn.fit(dtm.todense())"
   ]
  },
  {
   "cell_type": "code",
   "execution_count": 90,
   "metadata": {},
   "outputs": [],
   "source": [
    "ideal_job = [\"A data scientist who has a knack for seeing patterns in data and creating visualizations to communicate this to others. A problem solver who will go to any length to come up with a solution. Someone who can clean, organize, and manipulate data. Strong python stack skills, SQL, Spark, AWS, Postgress a bonus\"]"
   ]
  },
  {
   "cell_type": "code",
   "execution_count": 91,
   "metadata": {},
   "outputs": [
    {
     "data": {
      "text/plain": [
       "(array([[1.29606024, 1.35822355, 1.37848106, 1.38189046, 1.38527286]]),\n",
       " array([[390,  79,  19, 411, 384]]))"
      ]
     },
     "execution_count": 91,
     "metadata": {},
     "output_type": "execute_result"
    }
   ],
   "source": [
    "new = tfidf.transform(ideal_job)\n",
    "\n",
    "nn.kneighbors(new.todense())"
   ]
  },
  {
   "cell_type": "code",
   "execution_count": 92,
   "metadata": {},
   "outputs": [
    {
     "data": {
      "text/plain": [
       "[\"b'must\",\n",
       " 'skills:',\n",
       " 'python',\n",
       " 'r',\n",
       " 'machine',\n",
       " 'learning',\n",
       " 'statistics(linear',\n",
       " 'models)',\n",
       " 'restful',\n",
       " 'services',\n",
       " 'sql',\n",
       " 'background',\n",
       " 'banking/financial',\n",
       " 'sector,aws,',\n",
       " 'restful',\n",
       " 'api',\n",
       " 'design\\\\n\\\\nlocation',\n",
       " 'ny\\\\neducation:\\\\nbachelor\\\\xe2\\\\x80\\\\x99s',\n",
       " 'degree',\n",
       " 'computer',\n",
       " 'science',\n",
       " 'related',\n",
       " 'engineering',\n",
       " 'discipline',\n",
       " 'equivalent.\\\\njob',\n",
       " 'responsibilities:',\n",
       " ':\\\\nresearch,',\n",
       " 'identify',\n",
       " 'assess',\n",
       " 'value',\n",
       " 'data',\n",
       " 'sources',\n",
       " 'products',\n",
       " 'available',\n",
       " 'market\\\\ndesign',\n",
       " 'implement',\n",
       " 'suitable',\n",
       " 'data',\n",
       " 'collection',\n",
       " 'mechanisms',\n",
       " 'gather',\n",
       " 'data',\n",
       " 'sources',\n",
       " 'real',\n",
       " 'time',\n",
       " 'batches\\\\nintegrate',\n",
       " 'collected',\n",
       " 'data',\n",
       " 'sources',\n",
       " 'existing',\n",
       " 'new',\n",
       " 'data',\n",
       " 'models\\\\nassist',\n",
       " 'design,',\n",
       " 'build,',\n",
       " 'test',\n",
       " 'optimization',\n",
       " 'predictive',\n",
       " 'models',\n",
       " 'machine',\n",
       " 'learning',\n",
       " 'algorithms\\\\ndesign,',\n",
       " 'build',\n",
       " 'implement',\n",
       " 'restful',\n",
       " 'apis',\n",
       " 'interface',\n",
       " 'data',\n",
       " 'models\\\\nmonitor,',\n",
       " 'quality',\n",
       " 'check',\n",
       " 'report',\n",
       " 'performance',\n",
       " 'data',\n",
       " 'models',\n",
       " 'services\\\\nconvert',\n",
       " 'data',\n",
       " 'models',\n",
       " 'data',\n",
       " 'products',\n",
       " 'services\\\\nperform',\n",
       " 'ad-hoc',\n",
       " 'data',\n",
       " 'analytics',\n",
       " 'internal',\n",
       " 'external',\n",
       " 'data',\n",
       " 'sources',\n",
       " 'available',\n",
       " 'answer',\n",
       " 'business',\n",
       " 'challenges',\n",
       " 'questions\\\\ncoordinate',\n",
       " 'engineering',\n",
       " 'business',\n",
       " 'teams',\n",
       " 'integrate',\n",
       " 'data',\n",
       " 'science',\n",
       " 'solutions',\n",
       " 'applications',\n",
       " 'stages',\n",
       " 'lending',\n",
       " 'process\\\\ngenerate,',\n",
       " 'maintain',\n",
       " 'publish',\n",
       " 'weekly/monthly',\n",
       " 'reports',\n",
       " 'reporting',\n",
       " 'purposes\\\\nautomate',\n",
       " 'improve',\n",
       " 'efficiency',\n",
       " 'data',\n",
       " 'collection',\n",
       " 'model',\n",
       " 'testing\\\\n\\\\nemail',\n",
       " 'id',\n",
       " 'address',\n",
       " 'contact:',\n",
       " 'alex@fraank.com,',\n",
       " '1605',\n",
       " 's',\n",
       " 'main',\n",
       " 'st,',\n",
       " 'suite#112,',\n",
       " 'milpitas,',\n",
       " 'ca-95035.',\n",
       " 'call:',\n",
       " \"510-771-9226'\"]"
      ]
     },
     "execution_count": 92,
     "metadata": {},
     "output_type": "execute_result"
    }
   ],
   "source": [
    "docs[390]"
   ]
  },
  {
   "cell_type": "markdown",
   "metadata": {
    "colab_type": "text",
    "id": "FiDfTWceoRkH"
   },
   "source": [
    "## Stretch Goals\n",
    "\n",
    " - Try different visualizations for words and frequencies - what story do you want to tell with the data?\n",
    " - Scrape Job Listings for the job title \"Data Analyst\". How do these differ from Data Scientist Job Listings\n",
    " - Try and identify requirements for experience specific technologies that are asked for in the job listings. How are those distributed among the job listings?\n",
    " - Use a clustering algorithm to cluster documents by their most important terms. Do the clusters reveal any common themes?\n",
    "  - **Hint:** K-means might not be the best algorithm for this. Do a little bit of research to see what might be good for this. Also, remember that algorithms that depend on Euclidean distance break down with high dimensional data."
   ]
  }
 ],
 "metadata": {
  "colab": {
   "collapsed_sections": [],
   "name": "LS_DS_422_BOW_Assignment.ipynb",
   "provenance": [],
   "version": "0.3.2"
  },
  "kernel_info": {
   "name": "python3"
  },
  "kernelspec": {
   "display_name": "Python 3",
   "language": "python",
   "name": "python3"
  },
  "language_info": {
   "codemirror_mode": {
    "name": "ipython",
    "version": 3
   },
   "file_extension": ".py",
   "mimetype": "text/x-python",
   "name": "python",
   "nbconvert_exporter": "python",
   "pygments_lexer": "ipython3",
   "version": "3.7.3"
  },
  "nteract": {
   "version": "0.14.3"
  }
 },
 "nbformat": 4,
 "nbformat_minor": 2
}
